{
 "cells": [
  {
   "cell_type": "markdown",
   "metadata": {},
   "source": [
    "# CityBikes"
   ]
  },
  {
   "cell_type": "markdown",
   "metadata": {},
   "source": [
    "Send a request to CityBikes for the city of your choice. "
   ]
  },
  {
   "cell_type": "code",
   "execution_count": 18,
   "metadata": {},
   "outputs": [
    {
     "name": "stdout",
     "output_type": "stream",
     "text": [
      "<Response [200]>\n"
     ]
    }
   ],
   "source": [
    "import json\n",
    "import requests\n",
    "import pandas as pd\n",
    "\n",
    "baseurl = 'http://api.citybik.es/v2/networks/wienmobil-rad' #The city I chose, Vienna, has its own independent bike network. This simplified things for me here.\n",
    "\n",
    "r = requests.get(baseurl)\n",
    "print(r)\n",
    "\n",
    "jsontest = json.loads(r.text)\n",
    "\n",
    "prettyjson = json.dumps(jsontest, indent=2) #Make the Json file somewhat understandable\n",
    "# print(prettyjson)\n",
    "\n",
    "bikedb = pd.json_normalize(jsontest)"
   ]
  },
  {
   "cell_type": "markdown",
   "metadata": {},
   "source": [
    "Parse through the response to get the details you want for the bike stations in that city (latitude, longitude, number of bikes). "
   ]
  },
  {
   "cell_type": "code",
   "execution_count": 21,
   "metadata": {},
   "outputs": [],
   "source": [
    "\n",
    "\n",
    "def bikedataframe(newdb):\n",
    "    newdb = pd.DataFrame(columns = ['Station Name', 'Slots', 'Latitude', 'Longitude']) #Setting up the framework for the DataFrame that I want\n",
    "    stationcount = 0 #For keeping track of the number of stations I was dealing with. Was more useful when first parsing through the data.\n",
    "    for station in bikedb['network.stations'][0]:\n",
    "        try: #Each station has its name, number of slots, latitude and longitude extracted. \n",
    "            slots = station['extra']['slots']\n",
    "            latitude = station['latitude']\n",
    "            longitude = station['longitude']\n",
    "            stationname = station['name']\n",
    "            stationcount += 1\n",
    "            new_row = pd.Series({'Station Name': stationname, 'Slots': slots, 'Latitude': latitude, 'Longitude': longitude}) #A temporary series is created for insertion into the DataFrame\n",
    "            newdb = pd.concat([newdb, new_row.to_frame().T], ignore_index = True) #pd.concat is used to append the row to the DataFrame\n",
    "        except:\n",
    "            continue\n",
    "    return(newdb)"
   ]
  },
  {
   "cell_type": "markdown",
   "metadata": {},
   "source": [
    "Put your parsed results into a DataFrame."
   ]
  },
  {
   "cell_type": "code",
   "execution_count": 22,
   "metadata": {},
   "outputs": [
    {
     "data": {
      "text/html": [
       "<div>\n",
       "<style scoped>\n",
       "    .dataframe tbody tr th:only-of-type {\n",
       "        vertical-align: middle;\n",
       "    }\n",
       "\n",
       "    .dataframe tbody tr th {\n",
       "        vertical-align: top;\n",
       "    }\n",
       "\n",
       "    .dataframe thead th {\n",
       "        text-align: right;\n",
       "    }\n",
       "</style>\n",
       "<table border=\"1\" class=\"dataframe\">\n",
       "  <thead>\n",
       "    <tr style=\"text-align: right;\">\n",
       "      <th></th>\n",
       "      <th>Station Name</th>\n",
       "      <th>Slots</th>\n",
       "      <th>Latitude</th>\n",
       "      <th>Longitude</th>\n",
       "    </tr>\n",
       "  </thead>\n",
       "  <tbody>\n",
       "    <tr>\n",
       "      <th>0</th>\n",
       "      <td>Julius-Raab-Platz</td>\n",
       "      <td>17</td>\n",
       "      <td>48.211544</td>\n",
       "      <td>16.382374</td>\n",
       "    </tr>\n",
       "    <tr>\n",
       "      <th>1</th>\n",
       "      <td>Hoher Markt</td>\n",
       "      <td>25</td>\n",
       "      <td>48.210666</td>\n",
       "      <td>16.372983</td>\n",
       "    </tr>\n",
       "    <tr>\n",
       "      <th>2</th>\n",
       "      <td>Oper</td>\n",
       "      <td>21</td>\n",
       "      <td>48.202683</td>\n",
       "      <td>16.369702</td>\n",
       "    </tr>\n",
       "    <tr>\n",
       "      <th>3</th>\n",
       "      <td>Volksgarten</td>\n",
       "      <td>15</td>\n",
       "      <td>48.206516</td>\n",
       "      <td>16.3604</td>\n",
       "    </tr>\n",
       "    <tr>\n",
       "      <th>4</th>\n",
       "      <td>Taborstraße U2</td>\n",
       "      <td>23</td>\n",
       "      <td>48.219522</td>\n",
       "      <td>16.382218</td>\n",
       "    </tr>\n",
       "    <tr>\n",
       "      <th>...</th>\n",
       "      <td>...</td>\n",
       "      <td>...</td>\n",
       "      <td>...</td>\n",
       "      <td>...</td>\n",
       "    </tr>\n",
       "    <tr>\n",
       "      <th>166</th>\n",
       "      <td>Schönbrunn U</td>\n",
       "      <td>5</td>\n",
       "      <td>48.185845</td>\n",
       "      <td>16.319898</td>\n",
       "    </tr>\n",
       "    <tr>\n",
       "      <th>167</th>\n",
       "      <td>Gußhausstraße / Argentinierstraße</td>\n",
       "      <td>21</td>\n",
       "      <td>48.197287</td>\n",
       "      <td>16.371572</td>\n",
       "    </tr>\n",
       "    <tr>\n",
       "      <th>168</th>\n",
       "      <td>Althanstraße</td>\n",
       "      <td>20</td>\n",
       "      <td>48.228936</td>\n",
       "      <td>16.3596</td>\n",
       "    </tr>\n",
       "    <tr>\n",
       "      <th>169</th>\n",
       "      <td>Modecenterstraße / The Marks</td>\n",
       "      <td>20</td>\n",
       "      <td>48.184348</td>\n",
       "      <td>16.413837</td>\n",
       "    </tr>\n",
       "    <tr>\n",
       "      <th>170</th>\n",
       "      <td>Am Langen Felde</td>\n",
       "      <td>10</td>\n",
       "      <td>48.250336</td>\n",
       "      <td>16.450206</td>\n",
       "    </tr>\n",
       "  </tbody>\n",
       "</table>\n",
       "<p>171 rows × 4 columns</p>\n",
       "</div>"
      ],
      "text/plain": [
       "                          Station Name Slots   Latitude  Longitude\n",
       "0                    Julius-Raab-Platz    17  48.211544  16.382374\n",
       "1                          Hoher Markt    25  48.210666  16.372983\n",
       "2                                 Oper    21  48.202683  16.369702\n",
       "3                          Volksgarten    15  48.206516    16.3604\n",
       "4                       Taborstraße U2    23  48.219522  16.382218\n",
       "..                                 ...   ...        ...        ...\n",
       "166                       Schönbrunn U     5  48.185845  16.319898\n",
       "167  Gußhausstraße / Argentinierstraße    21  48.197287  16.371572\n",
       "168                       Althanstraße    20  48.228936    16.3596\n",
       "169       Modecenterstraße / The Marks    20  48.184348  16.413837\n",
       "170                    Am Langen Felde    10  48.250336  16.450206\n",
       "\n",
       "[171 rows x 4 columns]"
      ]
     },
     "execution_count": 22,
     "metadata": {},
     "output_type": "execute_result"
    }
   ],
   "source": [
    "emptydataframe = pd.DataFrame()\n",
    "output = bikedataframe(emptydataframe) #Probably an over complicated way to get a DataFrame out of the GET request, but it works.\n",
    "output"
   ]
  }
 ],
 "metadata": {
  "kernelspec": {
   "display_name": "Python 3 (ipykernel)",
   "language": "python",
   "name": "python3"
  },
  "language_info": {
   "codemirror_mode": {
    "name": "ipython",
    "version": 3
   },
   "file_extension": ".py",
   "mimetype": "text/x-python",
   "name": "python",
   "nbconvert_exporter": "python",
   "pygments_lexer": "ipython3",
   "version": "3.11.3"
  }
 },
 "nbformat": 4,
 "nbformat_minor": 4
}
