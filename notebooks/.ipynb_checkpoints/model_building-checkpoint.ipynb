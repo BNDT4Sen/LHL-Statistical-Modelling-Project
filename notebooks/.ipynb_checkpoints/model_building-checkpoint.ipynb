{
 "cells": [
  {
   "cell_type": "code",
   "execution_count": 21,
   "metadata": {
    "tags": []
   },
   "outputs": [],
   "source": [
    "import requests\n",
    "import pandas as pd\n",
    "import json\n",
    "import os\n",
    "import seaborn as sns\n",
    "import matplotlib.pyplot as plt\n",
    "import sqlite3\n",
    "import numpy as np\n",
    "import statsmodels.api as sm\n",
    "from patsy.builtins import *"
   ]
  },
  {
   "cell_type": "markdown",
   "metadata": {},
   "source": [
    "### Build a regression model."
   ]
  },
  {
   "cell_type": "code",
   "execution_count": 45,
   "metadata": {
    "tags": []
   },
   "outputs": [
    {
     "name": "stdout",
     "output_type": "stream",
     "text": [
      "                            OLS Regression Results                            \n",
      "==============================================================================\n",
      "Dep. Variable:                  Slots   R-squared:                       0.008\n",
      "Model:                            OLS   Adj. R-squared:                  0.007\n",
      "Method:                 Least Squares   F-statistic:                     6.955\n",
      "Date:                Sun, 02 Jul 2023   Prob (F-statistic):           0.000117\n",
      "Time:                        23:00:53   Log-Likelihood:                -8932.9\n",
      "No. Observations:                2555   AIC:                         1.787e+04\n",
      "Df Residuals:                    2551   BIC:                         1.790e+04\n",
      "Df Model:                           3                                         \n",
      "Covariance Type:            nonrobust                                         \n",
      "================================================================================\n",
      "                   coef    std err          t      P>|t|      [0.025      0.975]\n",
      "--------------------------------------------------------------------------------\n",
      "const           26.4868      1.059     25.007      0.000      24.410      28.564\n",
      "Distance        -0.0027      0.001     -2.398      0.017      -0.005      -0.000\n",
      "Ratings         -0.8533      0.252     -3.382      0.001      -1.348      -0.359\n",
      "Review Count     0.0054      0.003      1.568      0.117      -0.001       0.012\n",
      "==============================================================================\n",
      "Omnibus:                      652.460   Durbin-Watson:                   0.153\n",
      "Prob(Omnibus):                  0.000   Jarque-Bera (JB):             1729.300\n",
      "Skew:                           1.353   Prob(JB):                         0.00\n",
      "Kurtosis:                       5.988   Cond. No.                     2.05e+03\n",
      "==============================================================================\n",
      "\n",
      "Notes:\n",
      "[1] Standard Errors assume that the covariance matrix of the errors is correctly specified.\n",
      "[2] The condition number is large, 2.05e+03. This might indicate that there are\n",
      "strong multicollinearity or other numerical problems.\n"
     ]
    }
   ],
   "source": [
    "csvDB = pd.read_csv('ModellingDB.csv') #DataFrame from joining_data is imported via csv.\n",
    "\n",
    "ModellingDB = csvDB[['Slots', 'Distance', 'Ratings', 'Review Count']] #Filtering for only dependent and independent variables.\n",
    "ModellingDB = ModellingDB.dropna()\n",
    "\n",
    "\n",
    "x = ModellingDB[['Distance', 'Ratings', 'Review Count']] #Independent variables.\n",
    "                \n",
    "y = ModellingDB['Slots'] #Dependent variables.\n",
    "\n",
    "x = sm.add_constant(x) # adding a constant\n",
    "lin_reg = sm.OLS(y,x)\n",
    "\n",
    "\n",
    "\n",
    "\n",
    "model = lin_reg.fit()\n",
    "print_model = model.summary()\n",
    "print(print_model)\n",
    "\n"
   ]
  },
  {
   "cell_type": "markdown",
   "metadata": {},
   "source": [
    "### Provide model output and an interpretation of the results. "
   ]
  },
  {
   "cell_type": "markdown",
   "metadata": {},
   "source": [
    "I'm not all that impressed with the resulting 0.007 adjusted r-squared. Distance appeared to have a very minor negative correlation with the number of slots in a bike station, and this was expected. Interestingly, venues with higher average ratings were also negatively correlated with the number of slots in bike stations. Without more extensive data, no real insights can be drawn from this. The final independent variable that I modelled was the number of reviews, and this was slightly positively correlated with the number of slots. This outcome was also expected, as higher traffic areas are expected to see more people, and ultimately, more reviewers."
   ]
  },
  {
   "cell_type": "markdown",
   "metadata": {},
   "source": [
    "### Stretch"
   ]
  },
  {
   "cell_type": "markdown",
   "metadata": {},
   "source": [
    "How can you turn the regression model into a classification model?"
   ]
  },
  {
   "cell_type": "code",
   "execution_count": null,
   "metadata": {},
   "outputs": [],
   "source": []
  }
 ],
 "metadata": {
  "kernelspec": {
   "display_name": "Python 3 (ipykernel)",
   "language": "python",
   "name": "python3"
  },
  "language_info": {
   "codemirror_mode": {
    "name": "ipython",
    "version": 3
   },
   "file_extension": ".py",
   "mimetype": "text/x-python",
   "name": "python",
   "nbconvert_exporter": "python",
   "pygments_lexer": "ipython3",
   "version": "3.11.3"
  }
 },
 "nbformat": 4,
 "nbformat_minor": 4
}
